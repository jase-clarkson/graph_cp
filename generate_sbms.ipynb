{
 "cells": [
  {
   "cell_type": "code",
   "execution_count": 490,
   "metadata": {
    "collapsed": true
   },
   "outputs": [],
   "source": [
    "import networkx as nx\n",
    "from torch_geometric.utils import from_networkx\n",
    "from torch_geometric.loader import DataLoader, NeighborLoader\n",
    "from torch_geometric.data import Batch\n",
    "from tqdm.notebook import tqdm\n",
    "import torch\n",
    "import numpy as np\n",
    "import os\n",
    "import pickle\n",
    "from functools import partial\n",
    "import multiprocessing as mp\n",
    "from tqdm.contrib.concurrent import process_map\n",
    "from sklearn.datasets import make_spd_matrix"
   ]
  },
  {
   "cell_type": "code",
   "execution_count": 491,
   "outputs": [],
   "source": [
    "n_comm = 10\n",
    "comm_size = 100\n",
    "p_in = 0.9\n",
    "p_out = 0.01\n",
    "node_feat_dim = 5\n",
    "# means = [0, 10, 20, 30, 40] * 2\n",
    "means = [i * 1 for i in range(n_comm)]\n",
    "variances = [1, 1, 1, 1, 1] * 2\n",
    "noise_props = np.random.rand(n_comm) * 0.2"
   ],
   "metadata": {
    "collapsed": false
   }
  },
  {
   "cell_type": "code",
   "execution_count": 492,
   "outputs": [],
   "source": [
    "def make_sbm_graph(n_comm, comm_size, p_in, p_out, node_feat_dim, means, variances, noise_props, seed):\n",
    "    np.random.seed(seed)\n",
    "    communities = [comm_size] * n_comm\n",
    "    G = nx.random_partition_graph(communities, p_in, p_out, seed=seed)\n",
    "    G = G.to_directed() if not nx.is_directed(G) else G\n",
    "    # Pyg doesn't like these attributes, so just delete.\n",
    "    del G.graph['partition']\n",
    "    del G.graph['name']\n",
    "    node_feat = []\n",
    "    labels = []\n",
    "    for i in range(n_comm):\n",
    "        cov = make_spd_matrix(node_feat_dim)\n",
    "        mean = [means[i]] * node_feat_dim\n",
    "        x = np.random.multivariate_normal(mean, cov, comm_size)\n",
    "        # x = np.random.normal(means[i], variances[i], (comm_size, node_feat_dim))\n",
    "        # y_clean = np.ones(int(comm_size/2)) * i\n",
    "        # y_corrupted = np.ones(int(comm_size/2)) * i\n",
    "        y = np.ones(comm_size) * i\n",
    "        other_labels = [j for j in range(n_comm) if j != i]\n",
    "        noise_prop = noise_props[i]\n",
    "        n_noisy_labels = int(noise_prop * comm_size)\n",
    "        noise_values = np.random.choice(other_labels, n_noisy_labels, replace=True)\n",
    "        noise_indices = np.random.choice([i for i in range(comm_size)], n_noisy_labels, replace=False)\n",
    "        y[noise_indices] = noise_values\n",
    "        # y = np.concatenate([y_clean, y_corrupted])\n",
    "        node_feat.append(x)\n",
    "        labels.append(y)\n",
    "    node_feat = np.concatenate(node_feat)\n",
    "    labels = np.concatenate(labels)\n",
    "    data = from_networkx(nx.Graph(G))\n",
    "    data.x = torch.tensor(node_feat, dtype=torch.float32)\n",
    "    data.y = torch.tensor(labels, dtype=torch.int64)\n",
    "    return data"
   ],
   "metadata": {
    "collapsed": false
   }
  },
  {
   "cell_type": "code",
   "execution_count": 493,
   "outputs": [],
   "source": [
    "def fn_tv(i):\n",
    "    return make_sbm_graph(n_comm, comm_size, p_in, p_out, node_feat_dim, means, variances, noise_props, i)\n",
    "def fn_test(i):\n",
    "    return make_sbm_graph(n_comm, comm_size, p_in, p_out, node_feat_dim, means, variances, noise_props, i)"
   ],
   "metadata": {
    "collapsed": false
   }
  },
  {
   "cell_type": "code",
   "execution_count": 494,
   "outputs": [
    {
     "data": {
      "text/plain": "  0%|          | 0/20 [00:00<?, ?it/s]",
      "application/vnd.jupyter.widget-view+json": {
       "version_major": 2,
       "version_minor": 0,
       "model_id": "5ecab11488e94a81ac27b1cf7c08614b"
      }
     },
     "metadata": {},
     "output_type": "display_data"
    },
    {
     "data": {
      "text/plain": "  0%|          | 0/2 [00:00<?, ?it/s]",
      "application/vnd.jupyter.widget-view+json": {
       "version_major": 2,
       "version_minor": 0,
       "model_id": "94c483807b6b4537aa39d5997adab6c1"
      }
     },
     "metadata": {},
     "output_type": "display_data"
    },
    {
     "data": {
      "text/plain": "  0%|          | 0/1 [00:00<?, ?it/s]",
      "application/vnd.jupyter.widget-view+json": {
       "version_major": 2,
       "version_minor": 0,
       "model_id": "19234343ec634fee80f26a986304dd5b"
      }
     },
     "metadata": {},
     "output_type": "display_data"
    }
   ],
   "source": [
    "with mp.Pool(8) as pool:\n",
    "    train = process_map(fn_tv, [i for i in range(20)])\n",
    "    val = process_map(fn_tv, [i for i in range(21, 23)])\n",
    "    test = process_map(fn_test, [i for i in range(26, 27)])\n"
   ],
   "metadata": {
    "collapsed": false
   }
  },
  {
   "cell_type": "code",
   "execution_count": 495,
   "outputs": [],
   "source": [
    "train_data = Batch.from_data_list(train)\n",
    "val_data = Batch.from_data_list(val)\n",
    "test_data = Batch.from_data_list(test)"
   ],
   "metadata": {
    "collapsed": false
   }
  },
  {
   "cell_type": "code",
   "execution_count": 496,
   "outputs": [],
   "source": [
    "train_data.num_classes = n_comm\n",
    "val_data.num_classes = n_comm\n",
    "test_data.num_classes = n_comm"
   ],
   "metadata": {
    "collapsed": false
   }
  },
  {
   "cell_type": "code",
   "execution_count": 497,
   "outputs": [],
   "source": [
    "try:\n",
    "    os.mkdir('data/SBM')\n",
    "except FileExistsError:\n",
    "    pass"
   ],
   "metadata": {
    "collapsed": false
   }
  },
  {
   "cell_type": "code",
   "execution_count": 498,
   "outputs": [],
   "source": [
    "folder = 'data/SBM'\n",
    "for name, data in {'train': train_data, 'val': val_data, 'test': test_data}.items():\n",
    "    path = os.path.join(folder, f'{name}.pkl')\n",
    "    with open(path, 'wb+') as f:\n",
    "        pickle.dump(data, f)"
   ],
   "metadata": {
    "collapsed": false
   }
  },
  {
   "cell_type": "code",
   "execution_count": 503,
   "outputs": [
    {
     "data": {
      "text/plain": "tensor([-1.4513,  0.2087, -1.0950,  1.9541,  1.2041])"
     },
     "execution_count": 503,
     "metadata": {},
     "output_type": "execute_result"
    }
   ],
   "source": [
    "train[0].x[0]"
   ],
   "metadata": {
    "collapsed": false
   }
  },
  {
   "cell_type": "code",
   "execution_count": 504,
   "outputs": [
    {
     "data": {
      "text/plain": "tensor([ 1.1249,  0.0096,  1.7162, -0.3796, -0.7158])"
     },
     "execution_count": 504,
     "metadata": {},
     "output_type": "execute_result"
    }
   ],
   "source": [
    "val[0].x[0]"
   ],
   "metadata": {
    "collapsed": false
   }
  },
  {
   "cell_type": "code",
   "execution_count": 505,
   "outputs": [
    {
     "data": {
      "text/plain": "tensor([-0.1655, -0.8628,  1.1961, -0.9450, -0.2817])"
     },
     "execution_count": 505,
     "metadata": {},
     "output_type": "execute_result"
    }
   ],
   "source": [
    "test[0].x[0]"
   ],
   "metadata": {
    "collapsed": false
   }
  },
  {
   "cell_type": "code",
   "execution_count": 502,
   "outputs": [
    {
     "data": {
      "text/plain": "array([[-3.50711722,  1.74153693, -1.8102476 ],\n       [-0.54209592,  0.55156439, -0.20988866],\n       [-0.07083168,  2.12144096, -0.05377152],\n       [ 2.23657732, -0.28146136,  0.44134555],\n       [ 1.64122   , -1.37344051,  0.33691316],\n       [-5.14698458,  2.38221859, -1.38946014],\n       [-1.1308754 ,  1.00084772, -1.55658744],\n       [ 0.31697078,  1.19494323,  0.37817609],\n       [-0.29865434, -0.52432122, -0.47071862],\n       [-1.22292098,  0.79991628,  0.25982859]])"
     },
     "execution_count": 502,
     "metadata": {},
     "output_type": "execute_result"
    }
   ],
   "source": [
    "cov = make_spd_matrix(3)\n",
    "mean = [0, 0, 0]\n",
    "np.random.multivariate_normal(mean, cov, 10)"
   ],
   "metadata": {
    "collapsed": false
   }
  }
 ],
 "metadata": {
  "kernelspec": {
   "display_name": "Python 3",
   "language": "python",
   "name": "python3"
  },
  "language_info": {
   "codemirror_mode": {
    "name": "ipython",
    "version": 2
   },
   "file_extension": ".py",
   "mimetype": "text/x-python",
   "name": "python",
   "nbconvert_exporter": "python",
   "pygments_lexer": "ipython2",
   "version": "2.7.6"
  }
 },
 "nbformat": 4,
 "nbformat_minor": 0
}
