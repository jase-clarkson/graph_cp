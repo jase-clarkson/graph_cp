{
 "cells": [
  {
   "cell_type": "code",
   "execution_count": 2,
   "metadata": {
    "collapsed": true
   },
   "outputs": [],
   "source": [
    "from torch_geometric.datasets import Coauthor, CitationFull, Reddit2\n",
    "from torch_geometric.transforms import NormalizeFeatures, RandomNodeSplit\n",
    "from torch_geometric.utils import homophily\n",
    "from torch_geometric.utils.convert import to_networkx\n",
    "import networkx as nx\n",
    "from tqdm.notebook import tqdm\n",
    "from utils import *\n",
    "import pandas as pd\n",
    "import multiprocessing as mp\n",
    "from tqdm.contrib.concurrent import process_map\n",
    "from functools import partial\n",
    "import pickle as pkl\n",
    "import os\n",
    "\n",
    "%load_ext autoreload\n",
    "%autoreload 2\n"
   ]
  },
  {
   "cell_type": "code",
   "execution_count": 3,
   "outputs": [
    {
     "data": {
      "text/plain": "Data(x=[55334, 602], edge_index=[2, 1615610], y=[55334], train_mask=[55334], val_mask=[55334], test_mask=[55334])"
     },
     "execution_count": 3,
     "metadata": {},
     "output_type": "execute_result"
    }
   ],
   "source": [
    "dataset = Reddit2('data/Reddit2')\n",
    "data = dataset[0]\n",
    "test_subgraph = data.subgraph(data.test_mask)\n",
    "test_subgraph"
   ],
   "metadata": {
    "collapsed": false
   }
  },
  {
   "cell_type": "code",
   "execution_count": 4,
   "outputs": [
    {
     "data": {
      "text/plain": "0.8128384351730347"
     },
     "execution_count": 4,
     "metadata": {},
     "output_type": "execute_result"
    }
   ],
   "source": [
    "homophily(data.edge_index, data.y, method='node')"
   ],
   "metadata": {
    "collapsed": false
   }
  },
  {
   "cell_type": "code",
   "execution_count": 5,
   "outputs": [],
   "source": [
    "G = to_networkx(test_subgraph).to_undirected()"
   ],
   "metadata": {
    "collapsed": false
   }
  },
  {
   "cell_type": "code",
   "execution_count": 6,
   "outputs": [
    {
     "data": {
      "text/plain": "<networkx.classes.graph.Graph at 0x7f9d6bfadf40>"
     },
     "execution_count": 6,
     "metadata": {},
     "output_type": "execute_result"
    }
   ],
   "source": [
    "G"
   ],
   "metadata": {
    "collapsed": false
   }
  },
  {
   "cell_type": "code",
   "execution_count": 7,
   "outputs": [],
   "source": [
    "def get_nbhd_weights(G, node, k, geom=True):\n",
    "    # Get dict containing nodes -> shortest path to node (i.e. depth).\n",
    "    node_depth_map = pd.Series(nx.single_source_shortest_path_length(G, node, cutoff=k), name='distance')\n",
    "    node_depth_map.index.name = 'node_id'\n",
    "    node_depth_map = node_depth_map.drop(node) # Remove the node itself from list.\n",
    "    node_depth_map = node_depth_map.reset_index()\n",
    "\n",
    "    if geom:\n",
    "        node_depth_map['weight'] = (0.5)**(node_depth_map['distance'] - 1)  # Weight =\n",
    "    else:\n",
    "        node_depth_map['weight'] = 1\n",
    "    return node_depth_map"
   ],
   "metadata": {
    "collapsed": false
   }
  },
  {
   "cell_type": "code",
   "execution_count": 8,
   "outputs": [
    {
     "name": "stdout",
     "output_type": "stream",
     "text": [
      "55334\n",
      "55334\n",
      "55334\n"
     ]
    }
   ],
   "source": [
    "exp_path = 'experiments/14-09-2022_23-49-12_Reddit2_SHADOW'\n",
    "preds_path = os.path.join(exp_path, 'preds.pkl')\n",
    "with open(preds_path, 'rb') as f:\n",
    "    preds = pkl.load(f)\n",
    "# preds = preds[lcc_nodes]\n",
    "# test_x = test_subgraph.x[lcc_nodes].numpy()\n",
    "# test_y = test_subgraph.y[lcc_nodes].numpy()\n",
    "preds = pd.DataFrame(preds)\n",
    "test_x = pd.DataFrame(data.x[data.test_mask].numpy())\n",
    "test_y = pd.DataFrame(data.y[data.test_mask].numpy())\n",
    "\n",
    "print(len(preds))\n",
    "print(len(test_x))\n",
    "print(len(test_y))"
   ],
   "metadata": {
    "collapsed": false
   }
  },
  {
   "cell_type": "code",
   "execution_count": 9,
   "outputs": [
    {
     "data": {
      "text/plain": "0.05173550222890036"
     },
     "execution_count": 9,
     "metadata": {},
     "output_type": "execute_result"
    }
   ],
   "source": [
    "probs = test_y.value_counts() / len(test_y)\n",
    "probs.name = 'Proportion'\n",
    "probs.index.name = 'Class'\n",
    "probs\n",
    "sum(probs**2)"
   ],
   "metadata": {
    "collapsed": false
   }
  },
  {
   "cell_type": "code",
   "execution_count": 8,
   "outputs": [
    {
     "data": {
      "text/plain": "                 0             1             2             3             4   \\\n0      2.097040e-04  4.343497e-05  2.734680e-06  3.046737e-09  5.720815e-05   \n1      4.030139e-03  1.080441e-07  4.043911e-12  5.465040e-06  2.608795e-12   \n2      7.279528e-04  1.940651e-06  1.357225e-09  1.762215e-05  1.807786e-09   \n3      9.985110e-01  9.854977e-08  7.976008e-12  9.085338e-09  1.915550e-12   \n4      1.782998e-04  8.665255e-04  7.884552e-10  9.915460e-01  4.654495e-12   \n...             ...           ...           ...           ...           ...   \n55329  4.743563e-05  3.541026e-04  6.823400e-05  2.296829e-06  8.827064e-05   \n55330  8.442882e-09  1.708048e-08  2.871376e-07  8.706020e-09  6.936628e-08   \n55331  3.889793e-16  7.185902e-17  8.206583e-11  3.145602e-19  4.325720e-11   \n55332  9.968169e-11  4.214753e-08  2.494031e-01  6.329249e-17  5.900053e-01   \n55333  3.857568e-06  6.072823e-12  7.455790e-09  1.487384e-22  5.603267e-06   \n\n                 5             6             7             8             9   \\\n0      5.921852e-03  1.587953e-02  2.869732e-02  5.169243e-07  4.401381e-02   \n1      3.324255e-16  1.467974e-03  4.203566e-04  2.617328e-19  7.660101e-05   \n2      3.101254e-12  1.248065e-01  9.260973e-05  5.098856e-16  1.697828e-04   \n3      3.804032e-29  2.007727e-13  3.160819e-05  4.512987e-23  5.974614e-14   \n4      7.620431e-28  6.752037e-09  4.951878e-12  2.443330e-22  4.111193e-15   \n...             ...           ...           ...           ...           ...   \n55329  1.929262e-10  3.815996e-02  1.328551e-07  2.812631e-12  1.132073e-07   \n55330  2.549154e-07  3.233491e-04  3.211103e-09  9.302781e-07  1.760841e-04   \n55331  6.968249e-08  6.553013e-07  2.972108e-15  5.720495e-10  1.944641e-07   \n55332  8.186513e-11  1.446010e-10  1.935960e-14  1.051648e-05  2.084080e-15   \n55333  2.845911e-08  6.448065e-10  5.467148e-03  1.315727e-12  3.393646e-08   \n\n       ...            31            32            33            34  \\\n0      ...  1.367339e-01  5.736105e-03  1.652083e-04  2.590278e-07   \n1      ...  1.711264e-16  7.365445e-07  4.019323e-18  6.278524e-19   \n2      ...  1.147299e-12  2.209316e-05  1.661342e-14  7.233445e-19   \n3      ...  7.507510e-32  3.174714e-08  1.395714e-22  9.487998e-16   \n4      ...  3.767835e-32  2.215425e-11  2.125272e-23  1.693666e-22   \n...    ...           ...           ...           ...           ...   \n55329  ...  2.263782e-12  1.981310e-03  1.143316e-10  1.554700e-18   \n55330  ...  1.087709e-13  3.836446e-07  2.058630e-08  3.680561e-11   \n55331  ...  3.288603e-17  7.288298e-09  1.517237e-11  4.365585e-20   \n55332  ...  1.254201e-18  1.105592e-03  1.875736e-05  6.661903e-14   \n55333  ...  1.193737e-06  1.896608e-01  1.468575e-07  4.683113e-11   \n\n                 35            36            37            38            39  \\\n0      5.223031e-06  1.842429e-04  9.304295e-02  5.159779e-04  5.132282e-02   \n1      2.717979e-08  5.526345e-17  1.164845e-10  1.963363e-03  3.042301e-10   \n2      1.126423e-07  3.941233e-12  6.844430e-07  2.091096e-03  1.625506e-06   \n3      6.219537e-11  4.334722e-22  8.264773e-20  2.372872e-11  1.253602e-17   \n4      5.986276e-09  2.925249e-18  3.563842e-19  1.570850e-07  1.998879e-15   \n...             ...           ...           ...           ...           ...   \n55329  5.258526e-08  1.939701e-05  6.814365e-04  2.604433e-06  9.339639e-03   \n55330  2.529937e-01  6.540254e-12  3.107405e-07  6.937185e-02  9.642009e-07   \n55331  1.076930e-05  9.920968e-16  5.967110e-07  3.736209e-07  9.839296e-08   \n55332  8.580054e-09  1.073210e-02  1.081247e-04  1.954805e-15  3.160506e-03   \n55333  1.166887e-14  2.575237e-07  8.793699e-03  3.061954e-15  3.336432e-04   \n\n                 40  \n0      1.318013e-02  \n1      1.914610e-04  \n2      2.657857e-03  \n3      1.301402e-08  \n4      2.493340e-08  \n...             ...  \n55329  3.185757e-03  \n55330  3.883517e-01  \n55331  9.720272e-03  \n55332  5.327676e-05  \n55333  1.197346e-06  \n\n[55334 rows x 41 columns]",
      "text/html": "<div>\n<style scoped>\n    .dataframe tbody tr th:only-of-type {\n        vertical-align: middle;\n    }\n\n    .dataframe tbody tr th {\n        vertical-align: top;\n    }\n\n    .dataframe thead th {\n        text-align: right;\n    }\n</style>\n<table border=\"1\" class=\"dataframe\">\n  <thead>\n    <tr style=\"text-align: right;\">\n      <th></th>\n      <th>0</th>\n      <th>1</th>\n      <th>2</th>\n      <th>3</th>\n      <th>4</th>\n      <th>5</th>\n      <th>6</th>\n      <th>7</th>\n      <th>8</th>\n      <th>9</th>\n      <th>...</th>\n      <th>31</th>\n      <th>32</th>\n      <th>33</th>\n      <th>34</th>\n      <th>35</th>\n      <th>36</th>\n      <th>37</th>\n      <th>38</th>\n      <th>39</th>\n      <th>40</th>\n    </tr>\n  </thead>\n  <tbody>\n    <tr>\n      <th>0</th>\n      <td>2.097040e-04</td>\n      <td>4.343497e-05</td>\n      <td>2.734680e-06</td>\n      <td>3.046737e-09</td>\n      <td>5.720815e-05</td>\n      <td>5.921852e-03</td>\n      <td>1.587953e-02</td>\n      <td>2.869732e-02</td>\n      <td>5.169243e-07</td>\n      <td>4.401381e-02</td>\n      <td>...</td>\n      <td>1.367339e-01</td>\n      <td>5.736105e-03</td>\n      <td>1.652083e-04</td>\n      <td>2.590278e-07</td>\n      <td>5.223031e-06</td>\n      <td>1.842429e-04</td>\n      <td>9.304295e-02</td>\n      <td>5.159779e-04</td>\n      <td>5.132282e-02</td>\n      <td>1.318013e-02</td>\n    </tr>\n    <tr>\n      <th>1</th>\n      <td>4.030139e-03</td>\n      <td>1.080441e-07</td>\n      <td>4.043911e-12</td>\n      <td>5.465040e-06</td>\n      <td>2.608795e-12</td>\n      <td>3.324255e-16</td>\n      <td>1.467974e-03</td>\n      <td>4.203566e-04</td>\n      <td>2.617328e-19</td>\n      <td>7.660101e-05</td>\n      <td>...</td>\n      <td>1.711264e-16</td>\n      <td>7.365445e-07</td>\n      <td>4.019323e-18</td>\n      <td>6.278524e-19</td>\n      <td>2.717979e-08</td>\n      <td>5.526345e-17</td>\n      <td>1.164845e-10</td>\n      <td>1.963363e-03</td>\n      <td>3.042301e-10</td>\n      <td>1.914610e-04</td>\n    </tr>\n    <tr>\n      <th>2</th>\n      <td>7.279528e-04</td>\n      <td>1.940651e-06</td>\n      <td>1.357225e-09</td>\n      <td>1.762215e-05</td>\n      <td>1.807786e-09</td>\n      <td>3.101254e-12</td>\n      <td>1.248065e-01</td>\n      <td>9.260973e-05</td>\n      <td>5.098856e-16</td>\n      <td>1.697828e-04</td>\n      <td>...</td>\n      <td>1.147299e-12</td>\n      <td>2.209316e-05</td>\n      <td>1.661342e-14</td>\n      <td>7.233445e-19</td>\n      <td>1.126423e-07</td>\n      <td>3.941233e-12</td>\n      <td>6.844430e-07</td>\n      <td>2.091096e-03</td>\n      <td>1.625506e-06</td>\n      <td>2.657857e-03</td>\n    </tr>\n    <tr>\n      <th>3</th>\n      <td>9.985110e-01</td>\n      <td>9.854977e-08</td>\n      <td>7.976008e-12</td>\n      <td>9.085338e-09</td>\n      <td>1.915550e-12</td>\n      <td>3.804032e-29</td>\n      <td>2.007727e-13</td>\n      <td>3.160819e-05</td>\n      <td>4.512987e-23</td>\n      <td>5.974614e-14</td>\n      <td>...</td>\n      <td>7.507510e-32</td>\n      <td>3.174714e-08</td>\n      <td>1.395714e-22</td>\n      <td>9.487998e-16</td>\n      <td>6.219537e-11</td>\n      <td>4.334722e-22</td>\n      <td>8.264773e-20</td>\n      <td>2.372872e-11</td>\n      <td>1.253602e-17</td>\n      <td>1.301402e-08</td>\n    </tr>\n    <tr>\n      <th>4</th>\n      <td>1.782998e-04</td>\n      <td>8.665255e-04</td>\n      <td>7.884552e-10</td>\n      <td>9.915460e-01</td>\n      <td>4.654495e-12</td>\n      <td>7.620431e-28</td>\n      <td>6.752037e-09</td>\n      <td>4.951878e-12</td>\n      <td>2.443330e-22</td>\n      <td>4.111193e-15</td>\n      <td>...</td>\n      <td>3.767835e-32</td>\n      <td>2.215425e-11</td>\n      <td>2.125272e-23</td>\n      <td>1.693666e-22</td>\n      <td>5.986276e-09</td>\n      <td>2.925249e-18</td>\n      <td>3.563842e-19</td>\n      <td>1.570850e-07</td>\n      <td>1.998879e-15</td>\n      <td>2.493340e-08</td>\n    </tr>\n    <tr>\n      <th>...</th>\n      <td>...</td>\n      <td>...</td>\n      <td>...</td>\n      <td>...</td>\n      <td>...</td>\n      <td>...</td>\n      <td>...</td>\n      <td>...</td>\n      <td>...</td>\n      <td>...</td>\n      <td>...</td>\n      <td>...</td>\n      <td>...</td>\n      <td>...</td>\n      <td>...</td>\n      <td>...</td>\n      <td>...</td>\n      <td>...</td>\n      <td>...</td>\n      <td>...</td>\n      <td>...</td>\n    </tr>\n    <tr>\n      <th>55329</th>\n      <td>4.743563e-05</td>\n      <td>3.541026e-04</td>\n      <td>6.823400e-05</td>\n      <td>2.296829e-06</td>\n      <td>8.827064e-05</td>\n      <td>1.929262e-10</td>\n      <td>3.815996e-02</td>\n      <td>1.328551e-07</td>\n      <td>2.812631e-12</td>\n      <td>1.132073e-07</td>\n      <td>...</td>\n      <td>2.263782e-12</td>\n      <td>1.981310e-03</td>\n      <td>1.143316e-10</td>\n      <td>1.554700e-18</td>\n      <td>5.258526e-08</td>\n      <td>1.939701e-05</td>\n      <td>6.814365e-04</td>\n      <td>2.604433e-06</td>\n      <td>9.339639e-03</td>\n      <td>3.185757e-03</td>\n    </tr>\n    <tr>\n      <th>55330</th>\n      <td>8.442882e-09</td>\n      <td>1.708048e-08</td>\n      <td>2.871376e-07</td>\n      <td>8.706020e-09</td>\n      <td>6.936628e-08</td>\n      <td>2.549154e-07</td>\n      <td>3.233491e-04</td>\n      <td>3.211103e-09</td>\n      <td>9.302781e-07</td>\n      <td>1.760841e-04</td>\n      <td>...</td>\n      <td>1.087709e-13</td>\n      <td>3.836446e-07</td>\n      <td>2.058630e-08</td>\n      <td>3.680561e-11</td>\n      <td>2.529937e-01</td>\n      <td>6.540254e-12</td>\n      <td>3.107405e-07</td>\n      <td>6.937185e-02</td>\n      <td>9.642009e-07</td>\n      <td>3.883517e-01</td>\n    </tr>\n    <tr>\n      <th>55331</th>\n      <td>3.889793e-16</td>\n      <td>7.185902e-17</td>\n      <td>8.206583e-11</td>\n      <td>3.145602e-19</td>\n      <td>4.325720e-11</td>\n      <td>6.968249e-08</td>\n      <td>6.553013e-07</td>\n      <td>2.972108e-15</td>\n      <td>5.720495e-10</td>\n      <td>1.944641e-07</td>\n      <td>...</td>\n      <td>3.288603e-17</td>\n      <td>7.288298e-09</td>\n      <td>1.517237e-11</td>\n      <td>4.365585e-20</td>\n      <td>1.076930e-05</td>\n      <td>9.920968e-16</td>\n      <td>5.967110e-07</td>\n      <td>3.736209e-07</td>\n      <td>9.839296e-08</td>\n      <td>9.720272e-03</td>\n    </tr>\n    <tr>\n      <th>55332</th>\n      <td>9.968169e-11</td>\n      <td>4.214753e-08</td>\n      <td>2.494031e-01</td>\n      <td>6.329249e-17</td>\n      <td>5.900053e-01</td>\n      <td>8.186513e-11</td>\n      <td>1.446010e-10</td>\n      <td>1.935960e-14</td>\n      <td>1.051648e-05</td>\n      <td>2.084080e-15</td>\n      <td>...</td>\n      <td>1.254201e-18</td>\n      <td>1.105592e-03</td>\n      <td>1.875736e-05</td>\n      <td>6.661903e-14</td>\n      <td>8.580054e-09</td>\n      <td>1.073210e-02</td>\n      <td>1.081247e-04</td>\n      <td>1.954805e-15</td>\n      <td>3.160506e-03</td>\n      <td>5.327676e-05</td>\n    </tr>\n    <tr>\n      <th>55333</th>\n      <td>3.857568e-06</td>\n      <td>6.072823e-12</td>\n      <td>7.455790e-09</td>\n      <td>1.487384e-22</td>\n      <td>5.603267e-06</td>\n      <td>2.845911e-08</td>\n      <td>6.448065e-10</td>\n      <td>5.467148e-03</td>\n      <td>1.315727e-12</td>\n      <td>3.393646e-08</td>\n      <td>...</td>\n      <td>1.193737e-06</td>\n      <td>1.896608e-01</td>\n      <td>1.468575e-07</td>\n      <td>4.683113e-11</td>\n      <td>1.166887e-14</td>\n      <td>2.575237e-07</td>\n      <td>8.793699e-03</td>\n      <td>3.061954e-15</td>\n      <td>3.336432e-04</td>\n      <td>1.197346e-06</td>\n    </tr>\n  </tbody>\n</table>\n<p>55334 rows × 41 columns</p>\n</div>"
     },
     "execution_count": 8,
     "metadata": {},
     "output_type": "execute_result"
    }
   ],
   "source": [
    "preds"
   ],
   "metadata": {
    "collapsed": false
   }
  },
  {
   "cell_type": "code",
   "execution_count": 9,
   "outputs": [
    {
     "data": {
      "text/plain": "55334"
     },
     "execution_count": 9,
     "metadata": {},
     "output_type": "execute_result"
    }
   ],
   "source": [
    "G.number_of_nodes()"
   ],
   "metadata": {
    "collapsed": false
   }
  },
  {
   "cell_type": "code",
   "execution_count": 10,
   "outputs": [
    {
     "name": "stderr",
     "output_type": "stream",
     "text": [
      "/tmp/ipykernel_237763/666642696.py:12: TqdmWarning: Iterable length 55334 > 1000 but `chunksize` is not set. This may seriously degrade multiprocess performance. Set `chunksize=1` or more.\n",
      "  quantiles_nb = process_map(calibrate_nbhd, list(G.nodes), max_workers=12)\n"
     ]
    },
    {
     "data": {
      "text/plain": "  0%|          | 0/55334 [00:00<?, ?it/s]",
      "application/vnd.jupyter.widget-view+json": {
       "version_major": 2,
       "version_minor": 0,
       "model_id": "4eccc6c07fca4a518865eb7475dafee4"
      }
     },
     "metadata": {},
     "output_type": "display_data"
    }
   ],
   "source": [
    "## Compute the NAPS prediction set for each node in advance.\n",
    "alpha = 0.1\n",
    "cutoff = 500\n",
    "quantiles_nb = []\n",
    "def calibrate_nbhd(node):\n",
    "    nbs = get_nbhd_weights(G, node, k=2, geom=False)\n",
    "    nb_ids = nbs['node_id'].values\n",
    "    if cutoff <= len(nb_ids):\n",
    "        quantile = calibrate(preds.loc[nb_ids].values,\n",
    "                             np.squeeze(test_y.loc[nb_ids].values), alpha)\n",
    "        return {node: quantile[0]}\n",
    "quantiles_nb = process_map(calibrate_nbhd, list(G.nodes), max_workers=12)"
   ],
   "metadata": {
    "collapsed": false
   }
  },
  {
   "cell_type": "code",
   "execution_count": 11,
   "outputs": [],
   "source": [
    "nz = [p for p in quantiles_nb if p is not None]\n",
    "res = {}\n",
    "for p in nz:\n",
    "    res.update(p)\n",
    "nbhd_quantiles = pd.Series(res, name='quantile')\n",
    "nbhd_quantiles\n",
    "lcc_nodes = nbhd_quantiles.index.values\n",
    "sets_nb = predict(preds.loc[lcc_nodes].values, nbhd_quantiles.values[:, None])\n",
    "sets_nb = pd.Series(sets_nb, index=lcc_nodes, name='set')"
   ],
   "metadata": {
    "collapsed": false
   }
  },
  {
   "cell_type": "code",
   "execution_count": 12,
   "outputs": [],
   "source": [
    "n_trials = 100\n",
    "n_calib = 1000"
   ],
   "metadata": {
    "collapsed": false
   }
  },
  {
   "cell_type": "code",
   "execution_count": 18,
   "outputs": [
    {
     "data": {
      "text/plain": "  0%|          | 0/100 [00:00<?, ?it/s]",
      "application/vnd.jupyter.widget-view+json": {
       "version_major": 2,
       "version_minor": 0,
       "model_id": "04a98f432c7746b38508f3b0dd8dfaf7"
      }
     },
     "metadata": {},
     "output_type": "display_data"
    }
   ],
   "source": [
    "nb_stats = []\n",
    "full_stats = []\n",
    "# with mp.Pool(12) as p:\n",
    "for k in tqdm(range(n_trials)):\n",
    "    ## Sample the prediction nodes.\n",
    "    pred_nodes = np.random.choice(lcc_nodes, size=n_calib, replace=False)\n",
    "    # Neighbourhood calibration is pre-computed, so just get prediction sets for them.\n",
    "    nb_stats.append(evaluate_predictions(sets_nb[pred_nodes].values,\n",
    "                                         test_x.loc[pred_nodes].values,\n",
    "                                         np.squeeze(test_y.loc[pred_nodes].values)\n",
    "                                         ))\n",
    "    # Full calibration\n",
    "    quantile = calibrate(preds[~preds.index.isin(pred_nodes)].values,\n",
    "                         np.squeeze(test_y[~test_y.index.isin(pred_nodes)].values), alpha)\n",
    "    sets_full = predict(preds.loc[pred_nodes].values, quantile)\n",
    "    full_stats.append(evaluate_predictions(sets_full,\n",
    "                                           test_x.loc[pred_nodes].values,\n",
    "                                           np.squeeze(test_y.loc[pred_nodes].values)))\n"
   ],
   "metadata": {
    "collapsed": false
   }
  },
  {
   "cell_type": "code",
   "execution_count": 19,
   "outputs": [
    {
     "data": {
      "text/plain": "         coverage    set_size  cc_set_size\ncount  100.000000  100.000000   100.000000\nmean     0.895710    1.637180     1.696942\nstd      0.008739    0.044127     0.043730\nmin      0.873000    1.502000     1.583982\n25%      0.890000    1.608250     1.679598\n50%      0.896000    1.638500     1.698829\n75%      0.901000    1.665250     1.724590\nmax      0.918000    1.756000     1.810307",
      "text/html": "<div>\n<style scoped>\n    .dataframe tbody tr th:only-of-type {\n        vertical-align: middle;\n    }\n\n    .dataframe tbody tr th {\n        vertical-align: top;\n    }\n\n    .dataframe thead th {\n        text-align: right;\n    }\n</style>\n<table border=\"1\" class=\"dataframe\">\n  <thead>\n    <tr style=\"text-align: right;\">\n      <th></th>\n      <th>coverage</th>\n      <th>set_size</th>\n      <th>cc_set_size</th>\n    </tr>\n  </thead>\n  <tbody>\n    <tr>\n      <th>count</th>\n      <td>100.000000</td>\n      <td>100.000000</td>\n      <td>100.000000</td>\n    </tr>\n    <tr>\n      <th>mean</th>\n      <td>0.895710</td>\n      <td>1.637180</td>\n      <td>1.696942</td>\n    </tr>\n    <tr>\n      <th>std</th>\n      <td>0.008739</td>\n      <td>0.044127</td>\n      <td>0.043730</td>\n    </tr>\n    <tr>\n      <th>min</th>\n      <td>0.873000</td>\n      <td>1.502000</td>\n      <td>1.583982</td>\n    </tr>\n    <tr>\n      <th>25%</th>\n      <td>0.890000</td>\n      <td>1.608250</td>\n      <td>1.679598</td>\n    </tr>\n    <tr>\n      <th>50%</th>\n      <td>0.896000</td>\n      <td>1.638500</td>\n      <td>1.698829</td>\n    </tr>\n    <tr>\n      <th>75%</th>\n      <td>0.901000</td>\n      <td>1.665250</td>\n      <td>1.724590</td>\n    </tr>\n    <tr>\n      <th>max</th>\n      <td>0.918000</td>\n      <td>1.756000</td>\n      <td>1.810307</td>\n    </tr>\n  </tbody>\n</table>\n</div>"
     },
     "execution_count": 19,
     "metadata": {},
     "output_type": "execute_result"
    },
    {
     "data": {
      "text/plain": "<Figure size 432x288 with 1 Axes>",
      "image/png": "[encoded data removed]"
     },
     "metadata": {
      "needs_background": "light"
     },
     "output_type": "display_data"
    }
   ],
   "source": [
    "nb_df = pd.DataFrame(nb_stats, columns=['coverage', 'set_size', 'cc_set_size'])\n",
    "nb_df['coverage'].plot(kind='hist', bins=30)\n",
    "nb_df.describe()"
   ],
   "metadata": {
    "collapsed": false
   }
  },
  {
   "cell_type": "code",
   "execution_count": 20,
   "outputs": [
    {
     "data": {
      "text/plain": "        coverage    set_size  cc_set_size\ncount  100.00000  100.000000   100.000000\nmean     0.92162    2.033830     2.085228\nstd      0.00804    0.058733     0.058051\nmin      0.90300    1.849000     1.934498\n25%      0.91575    1.995000     2.052362\n50%      0.92200    2.032500     2.087833\n75%      0.92700    2.068250     2.120776\nmax      0.93800    2.180000     2.230176",
      "text/html": "<div>\n<style scoped>\n    .dataframe tbody tr th:only-of-type {\n        vertical-align: middle;\n    }\n\n    .dataframe tbody tr th {\n        vertical-align: top;\n    }\n\n    .dataframe thead th {\n        text-align: right;\n    }\n</style>\n<table border=\"1\" class=\"dataframe\">\n  <thead>\n    <tr style=\"text-align: right;\">\n      <th></th>\n      <th>coverage</th>\n      <th>set_size</th>\n      <th>cc_set_size</th>\n    </tr>\n  </thead>\n  <tbody>\n    <tr>\n      <th>count</th>\n      <td>100.00000</td>\n      <td>100.000000</td>\n      <td>100.000000</td>\n    </tr>\n    <tr>\n      <th>mean</th>\n      <td>0.92162</td>\n      <td>2.033830</td>\n      <td>2.085228</td>\n    </tr>\n    <tr>\n      <th>std</th>\n      <td>0.00804</td>\n      <td>0.058733</td>\n      <td>0.058051</td>\n    </tr>\n    <tr>\n      <th>min</th>\n      <td>0.90300</td>\n      <td>1.849000</td>\n      <td>1.934498</td>\n    </tr>\n    <tr>\n      <th>25%</th>\n      <td>0.91575</td>\n      <td>1.995000</td>\n      <td>2.052362</td>\n    </tr>\n    <tr>\n      <th>50%</th>\n      <td>0.92200</td>\n      <td>2.032500</td>\n      <td>2.087833</td>\n    </tr>\n    <tr>\n      <th>75%</th>\n      <td>0.92700</td>\n      <td>2.068250</td>\n      <td>2.120776</td>\n    </tr>\n    <tr>\n      <th>max</th>\n      <td>0.93800</td>\n      <td>2.180000</td>\n      <td>2.230176</td>\n    </tr>\n  </tbody>\n</table>\n</div>"
     },
     "execution_count": 20,
     "metadata": {},
     "output_type": "execute_result"
    },
    {
     "data": {
      "text/plain": "<Figure size 432x288 with 1 Axes>",
      "image/png": "[encoded data removed]"
     },
     "metadata": {
      "needs_background": "light"
     },
     "output_type": "display_data"
    }
   ],
   "source": [
    "full_df = pd.DataFrame(full_stats, columns=['coverage', 'set_size', 'cc_set_size'])\n",
    "full_df['coverage'].plot(kind='hist', bins=30)\n",
    "full_df.describe()"
   ],
   "metadata": {
    "collapsed": false
   }
  },
  {
   "cell_type": "code",
   "execution_count": 15,
   "outputs": [],
   "source": [],
   "metadata": {
    "collapsed": false
   }
  }
 ],
 "metadata": {
  "kernelspec": {
   "display_name": "Python 3",
   "language": "python",
   "name": "python3"
  },
  "language_info": {
   "codemirror_mode": {
    "name": "ipython",
    "version": 2
   },
   "file_extension": ".py",
   "mimetype": "text/x-python",
   "name": "python",
   "nbconvert_exporter": "python",
   "pygments_lexer": "ipython2",
   "version": "2.7.6"
  }
 },
 "nbformat": 4,
 "nbformat_minor": 0
}
