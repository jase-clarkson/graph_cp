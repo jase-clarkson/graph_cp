{
 "cells": [
  {
   "cell_type": "code",
   "execution_count": null,
   "metadata": {
    "collapsed": true,
    "pycharm": {
     "name": "#%%\n"
    }
   },
   "outputs": [],
   "source": [
    "import os\n",
    "from tqdm.notebook import tqdm\n",
    "from torch_geometric.datasets import Flickr\n",
    "import pandas as pd\n",
    "import multiprocessing as mp\n",
    "from functools import partial\n",
    "import pickle as pkl\n",
    "from torch_geometric.utils import k_hop_subgraph\n",
    "from utils import *\n",
    "\n",
    "%load_ext autoreload\n",
    "%autoreload 2"
   ]
  },
  {
   "cell_type": "code",
   "execution_count": null,
   "outputs": [],
   "source": [
    "exp_path = ''  # Experiment folder path goes here.\n",
    "compute_nbhds = True # Set this to False to avoid recomputing."
   ],
   "metadata": {
    "collapsed": false,
    "pycharm": {
     "name": "#%%\n"
    }
   }
  },
  {
   "cell_type": "code",
   "execution_count": null,
   "outputs": [],
   "source": [
    "dataset = Flickr('data/Flickr')\n",
    "data = dataset[0]\n",
    "test_x = data.x[data.test_mask].numpy()\n",
    "test_y = data.y[data.test_mask].numpy()\n",
    "preds_path = os.path.join(exp_path, 'preds.pkl')\n",
    "with open(preds_path, 'rb') as f:\n",
    "    preds = pkl.load(f)"
   ],
   "metadata": {
    "collapsed": false,
    "pycharm": {
     "name": "#%%\n"
    }
   }
  },
  {
   "cell_type": "code",
   "execution_count": null,
   "outputs": [],
   "source": [
    "num_hops = 2\n",
    "nb_fstr = f'data/Flickr/{num_hops}_hop_nbhds.pkl'\n",
    "if compute_nbhds:\n",
    "    test_subgraph = data.subgraph(data.test_mask)\n",
    "    nbs = [k_hop_subgraph(i, num_hops=num_hops, edge_index=test_subgraph.edge_index)[0] for i in tqdm(range(test_subgraph.num_nodes))]\n",
    "\n",
    "    nbs = [np.array(nbhd) for nbhd in nbs]\n",
    "    nbs = [nbhd[nbhd != i] for i, nbhd in tqdm(enumerate(nbs))]\n",
    "    with open(nb_fstr, 'wb') as f:\n",
    "        pkl.dump(nbs, f)\n",
    "else:\n",
    "    with open(nb_fstr, 'rb') as f:\n",
    "        nbs = pkl.load(f)"
   ],
   "metadata": {
    "collapsed": false,
    "pycharm": {
     "name": "#%%\n"
    }
   }
  },
  {
   "cell_type": "code",
   "execution_count": null,
   "outputs": [],
   "source": [
    "len(nbs)"
   ],
   "metadata": {
    "collapsed": false,
    "pycharm": {
     "name": "#%%\n"
    }
   }
  },
  {
   "cell_type": "code",
   "execution_count": null,
   "outputs": [],
   "source": [
    "# Optionally drop all the small neighbourhoods from the graph.\n",
    "cutoff = 50\n",
    "node_pool = [i for i, nb in enumerate(nbs) if len(nb) > cutoff]"
   ],
   "metadata": {
    "collapsed": false,
    "pycharm": {
     "name": "#%%\n"
    }
   }
  },
  {
   "cell_type": "code",
   "execution_count": null,
   "outputs": [],
   "source": [
    "len(node_pool)"
   ],
   "metadata": {
    "collapsed": false,
    "pycharm": {
     "name": "#%%\n"
    }
   }
  },
  {
   "cell_type": "code",
   "execution_count": null,
   "outputs": [],
   "source": [
    "test_y"
   ],
   "metadata": {
    "collapsed": false,
    "pycharm": {
     "name": "#%%\n"
    }
   }
  },
  {
   "cell_type": "code",
   "execution_count": null,
   "outputs": [],
   "source": [
    "alpha = 0.1\n",
    "n_trials = 100\n",
    "n_calib = 1000\n",
    "nb_stats = []\n",
    "full_stats = []\n",
    "calib_partial = partial(calibrate_full, probs=preds, labels=test_y, alpha=alpha)\n",
    "q_nb = []\n",
    "q_full = []\n",
    "with mp.Pool(12) as p:\n",
    "    for k in tqdm(range(n_trials)):\n",
    "        nodes = np.random.choice(node_pool, n_calib, replace=False)\n",
    "        # Neighbourhood calibration\n",
    "        quantiles_nb = [calibrate(preds[nbs[i]], test_y[nbs[i]], alpha) for i in nodes]\n",
    "        quantiles_nb = np.concatenate(quantiles_nb)\n",
    "        q_nb.append(quantiles_nb)\n",
    "        sets_nb = predict(preds[nodes], quantiles_nb[:, None])\n",
    "        nb_stats.append(evaluate_predictions(sets_nb, test_x[nodes], test_y[nodes]))\n",
    "        # Full calibration\n",
    "        quantiles_full = p.map(calib_partial, nodes, chunksize=10)\n",
    "        quantiles_full = np.concatenate(quantiles_full)\n",
    "        q_full.append(quantiles_full)\n",
    "        sets_full = predict(preds[nodes], quantiles_full[:, None])\n",
    "        full_stats.append(evaluate_predictions(sets_full, test_x[nodes], test_y[nodes]))\n"
   ],
   "metadata": {
    "collapsed": false,
    "pycharm": {
     "name": "#%%\n"
    }
   }
  },
  {
   "cell_type": "code",
   "execution_count": null,
   "outputs": [],
   "source": [
    "nb_df = pd.DataFrame(nb_stats, columns=['coverage', 'set_size', 'cc_set_size'])\n",
    "nb_df['coverage'].plot(kind='hist', bins=30)\n",
    "nb_df.describe()"
   ],
   "metadata": {
    "collapsed": false,
    "pycharm": {
     "name": "#%%\n"
    }
   }
  },
  {
   "cell_type": "code",
   "execution_count": null,
   "outputs": [],
   "source": [
    "full_df = pd.DataFrame(full_stats, columns=['coverage', 'set_size', 'cc_set_size'])\n",
    "full_df['coverage'].plot(kind='hist', bins=30)\n",
    "full_df.describe()"
   ],
   "metadata": {
    "collapsed": false,
    "pycharm": {
     "name": "#%%\n"
    }
   }
  }
 ],
 "metadata": {
  "kernelspec": {
   "display_name": "Python 3",
   "language": "python",
   "name": "python3"
  },
  "language_info": {
   "codemirror_mode": {
    "name": "ipython",
    "version": 2
   },
   "file_extension": ".py",
   "mimetype": "text/x-python",
   "name": "python",
   "nbconvert_exporter": "python",
   "pygments_lexer": "ipython2",
   "version": "2.7.6"
  }
 },
 "nbformat": 4,
 "nbformat_minor": 0
}