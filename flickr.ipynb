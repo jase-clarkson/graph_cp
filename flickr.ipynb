{
 "cells": [
  {
   "cell_type": "code",
   "execution_count": 1,
   "metadata": {
    "collapsed": true
   },
   "outputs": [],
   "source": [
    "from torch_geometric.datasets import Flickr\n",
    "from torch_geometric.transforms import NormalizeFeatures, RandomNodeSplit\n",
    "from torch_geometric.utils.convert import to_networkx\n",
    "import networkx as nx\n",
    "from tqdm.notebook import tqdm\n",
    "from utils import *\n",
    "import pandas as pd\n",
    "import multiprocessing as mp\n",
    "from tqdm.contrib.concurrent import process_map\n",
    "from functools import partial\n",
    "import pickle as pkl\n",
    "import os\n",
    "\n",
    "%load_ext autoreload\n",
    "%autoreload 2\n"
   ]
  },
  {
   "cell_type": "code",
   "execution_count": 2,
   "outputs": [
    {
     "data": {
      "text/plain": "Data(x=[22313, 500], edge_index=[2, 58636], y=[22313], train_mask=[22313], val_mask=[22313], test_mask=[22313])"
     },
     "execution_count": 2,
     "metadata": {},
     "output_type": "execute_result"
    }
   ],
   "source": [
    "dataset = Flickr('data/Flickr')\n",
    "data = dataset[0]\n",
    "test_subgraph = data.subgraph(data.test_mask)\n",
    "test_subgraph"
   ],
   "metadata": {
    "collapsed": false
   }
  },
  {
   "cell_type": "code",
   "execution_count": 3,
   "outputs": [],
   "source": [
    "G = to_networkx(test_subgraph).to_undirected()"
   ],
   "metadata": {
    "collapsed": false
   }
  },
  {
   "cell_type": "code",
   "execution_count": 4,
   "outputs": [
    {
     "data": {
      "text/plain": "<networkx.classes.graph.Graph at 0x7fb0746316d0>"
     },
     "execution_count": 4,
     "metadata": {},
     "output_type": "execute_result"
    }
   ],
   "source": [
    "G"
   ],
   "metadata": {
    "collapsed": false
   }
  },
  {
   "cell_type": "code",
   "execution_count": 5,
   "outputs": [],
   "source": [
    "def get_nbhd_weights(G, node, k, geom=True):\n",
    "    # Get dict containing nodes -> shortest path to node (i.e. depth).\n",
    "    node_depth_map = pd.Series(nx.single_source_shortest_path_length(G, node, cutoff=k), name='distance')\n",
    "    node_depth_map.index.name = 'node_id'\n",
    "    node_depth_map = node_depth_map.drop(node) # Remove the node itself from list.\n",
    "    node_depth_map = node_depth_map.reset_index()\n",
    "\n",
    "    if geom:\n",
    "        node_depth_map['weight'] = (0.5)**(node_depth_map['distance'] - 1)  # Weight =\n",
    "    else:\n",
    "        node_depth_map['weight'] = 1\n",
    "    return node_depth_map"
   ],
   "metadata": {
    "collapsed": false
   }
  },
  {
   "cell_type": "code",
   "execution_count": 6,
   "outputs": [
    {
     "name": "stdout",
     "output_type": "stream",
     "text": [
      "22313\n",
      "22313\n",
      "22313\n"
     ]
    }
   ],
   "source": [
    "# exp_path = 'experiments/09-09-2022_23-16-17_Flickr'\n",
    "# exp_path = 'experiments/12-09-2022_19-02-33_Flickr'\n",
    "exp_path = 'experiments/15-09-2022_00-22-32_Flickr_SHADOW'\n",
    "\n",
    "# exp_path = 'experiments/15-09-2022_00-22-32_Flickr_SHADOW'\n",
    "preds_path = os.path.join(exp_path, 'preds.pkl')\n",
    "with open(preds_path, 'rb') as f:\n",
    "    preds = pkl.load(f)\n",
    "# preds = preds[lcc_nodes]\n",
    "# test_x = test_subgraph.x[lcc_nodes].numpy()\n",
    "# test_y = test_subgraph.y[lcc_nodes].numpy()\n",
    "preds = pd.DataFrame(preds)\n",
    "test_x = pd.DataFrame(data.x[data.test_mask].numpy())\n",
    "test_y = pd.DataFrame(data.y[data.test_mask].numpy())\n",
    "\n",
    "print(len(preds))\n",
    "print(len(test_x))\n",
    "print(len(test_y))"
   ],
   "metadata": {
    "collapsed": false
   }
  },
  {
   "cell_type": "code",
   "execution_count": 22,
   "outputs": [
    {
     "data": {
      "text/plain": "0.26648471942681085"
     },
     "execution_count": 22,
     "metadata": {},
     "output_type": "execute_result"
    }
   ],
   "source": [
    "probs = test_y.value_counts() / len(test_y)\n",
    "probs.name = 'Proportion'\n",
    "probs.index.name = 'Class'\n",
    "probs\n",
    "sum(probs**2)"
   ],
   "metadata": {
    "collapsed": false
   }
  },
  {
   "cell_type": "code",
   "execution_count": 69,
   "outputs": [
    {
     "data": {
      "text/plain": "              0         1         2         3         4         5         6\n0      0.071690  0.045592  0.105652  0.094716  0.298284  0.029033  0.355033\n1      0.042319  0.184556  0.047098  0.044298  0.352138  0.021946  0.307645\n2      0.044562  0.238716  0.041662  0.029441  0.170928  0.030377  0.444314\n3      0.061409  0.068094  0.083683  0.056268  0.291246  0.038177  0.401123\n4      0.068712  0.098561  0.088218  0.052387  0.174833  0.038006  0.479283\n...         ...       ...       ...       ...       ...       ...       ...\n22308  0.066278  0.109719  0.042311  0.016233  0.032854  0.057960  0.674645\n22309  0.056655  0.077465  0.060677  0.070828  0.454762  0.024900  0.254712\n22310  0.086850  0.038315  0.095082  0.067431  0.156068  0.048272  0.507982\n22311  0.106789  0.026490  0.099024  0.041613  0.051038  0.061223  0.613824\n22312  0.052324  0.086761  0.069916  0.071881  0.434967  0.022344  0.261807\n\n[22313 rows x 7 columns]",
      "text/html": "<div>\n<style scoped>\n    .dataframe tbody tr th:only-of-type {\n        vertical-align: middle;\n    }\n\n    .dataframe tbody tr th {\n        vertical-align: top;\n    }\n\n    .dataframe thead th {\n        text-align: right;\n    }\n</style>\n<table border=\"1\" class=\"dataframe\">\n  <thead>\n    <tr style=\"text-align: right;\">\n      <th></th>\n      <th>0</th>\n      <th>1</th>\n      <th>2</th>\n      <th>3</th>\n      <th>4</th>\n      <th>5</th>\n      <th>6</th>\n    </tr>\n  </thead>\n  <tbody>\n    <tr>\n      <th>0</th>\n      <td>0.071690</td>\n      <td>0.045592</td>\n      <td>0.105652</td>\n      <td>0.094716</td>\n      <td>0.298284</td>\n      <td>0.029033</td>\n      <td>0.355033</td>\n    </tr>\n    <tr>\n      <th>1</th>\n      <td>0.042319</td>\n      <td>0.184556</td>\n      <td>0.047098</td>\n      <td>0.044298</td>\n      <td>0.352138</td>\n      <td>0.021946</td>\n      <td>0.307645</td>\n    </tr>\n    <tr>\n      <th>2</th>\n      <td>0.044562</td>\n      <td>0.238716</td>\n      <td>0.041662</td>\n      <td>0.029441</td>\n      <td>0.170928</td>\n      <td>0.030377</td>\n      <td>0.444314</td>\n    </tr>\n    <tr>\n      <th>3</th>\n      <td>0.061409</td>\n      <td>0.068094</td>\n      <td>0.083683</td>\n      <td>0.056268</td>\n      <td>0.291246</td>\n      <td>0.038177</td>\n      <td>0.401123</td>\n    </tr>\n    <tr>\n      <th>4</th>\n      <td>0.068712</td>\n      <td>0.098561</td>\n      <td>0.088218</td>\n      <td>0.052387</td>\n      <td>0.174833</td>\n      <td>0.038006</td>\n      <td>0.479283</td>\n    </tr>\n    <tr>\n      <th>...</th>\n      <td>...</td>\n      <td>...</td>\n      <td>...</td>\n      <td>...</td>\n      <td>...</td>\n      <td>...</td>\n      <td>...</td>\n    </tr>\n    <tr>\n      <th>22308</th>\n      <td>0.066278</td>\n      <td>0.109719</td>\n      <td>0.042311</td>\n      <td>0.016233</td>\n      <td>0.032854</td>\n      <td>0.057960</td>\n      <td>0.674645</td>\n    </tr>\n    <tr>\n      <th>22309</th>\n      <td>0.056655</td>\n      <td>0.077465</td>\n      <td>0.060677</td>\n      <td>0.070828</td>\n      <td>0.454762</td>\n      <td>0.024900</td>\n      <td>0.254712</td>\n    </tr>\n    <tr>\n      <th>22310</th>\n      <td>0.086850</td>\n      <td>0.038315</td>\n      <td>0.095082</td>\n      <td>0.067431</td>\n      <td>0.156068</td>\n      <td>0.048272</td>\n      <td>0.507982</td>\n    </tr>\n    <tr>\n      <th>22311</th>\n      <td>0.106789</td>\n      <td>0.026490</td>\n      <td>0.099024</td>\n      <td>0.041613</td>\n      <td>0.051038</td>\n      <td>0.061223</td>\n      <td>0.613824</td>\n    </tr>\n    <tr>\n      <th>22312</th>\n      <td>0.052324</td>\n      <td>0.086761</td>\n      <td>0.069916</td>\n      <td>0.071881</td>\n      <td>0.434967</td>\n      <td>0.022344</td>\n      <td>0.261807</td>\n    </tr>\n  </tbody>\n</table>\n<p>22313 rows × 7 columns</p>\n</div>"
     },
     "execution_count": 69,
     "metadata": {},
     "output_type": "execute_result"
    }
   ],
   "source": [
    "preds"
   ],
   "metadata": {
    "collapsed": false
   }
  },
  {
   "cell_type": "code",
   "execution_count": 70,
   "outputs": [
    {
     "data": {
      "text/plain": "22313"
     },
     "execution_count": 70,
     "metadata": {},
     "output_type": "execute_result"
    }
   ],
   "source": [
    "G.number_of_nodes()"
   ],
   "metadata": {
    "collapsed": false
   }
  },
  {
   "cell_type": "code",
   "execution_count": 71,
   "outputs": [
    {
     "name": "stderr",
     "output_type": "stream",
     "text": [
      "/tmp/ipykernel_241812/2252916567.py:13: TqdmWarning: Iterable length 22313 > 1000 but `chunksize` is not set. This may seriously degrade multiprocess performance. Set `chunksize=1` or more.\n",
      "  quantiles_nb = process_map(calibrate_nbhd, list(G.nodes), max_workers=12)\n"
     ]
    },
    {
     "data": {
      "text/plain": "  0%|          | 0/22313 [00:00<?, ?it/s]",
      "application/vnd.jupyter.widget-view+json": {
       "version_major": 2,
       "version_minor": 0,
       "model_id": "5d4a2f5fa2244862a6ab6f2b6b9faaf2"
      }
     },
     "metadata": {},
     "output_type": "display_data"
    }
   ],
   "source": [
    "## Compute the NAPS prediction set for each node in advance.\n",
    "alpha = 0.1\n",
    "cutoff = 50\n",
    "quantiles_nb = []\n",
    "def calibrate_nbhd(node):\n",
    "    nbs = get_nbhd_weights(G, node, k=2, geom=False)\n",
    "    two_hop = nbs[nbs.distance == 2]\n",
    "    nb_ids = two_hop['node_id'].values\n",
    "    if cutoff <= len(nb_ids):\n",
    "        quantile = calibrate(preds.loc[nb_ids].values,\n",
    "                             np.squeeze(test_y.loc[nb_ids].values), alpha)\n",
    "        return {node: quantile[0]}\n",
    "quantiles_nb = process_map(calibrate_nbhd, list(G.nodes), max_workers=12)"
   ],
   "metadata": {
    "collapsed": false
   }
  },
  {
   "cell_type": "code",
   "execution_count": 72,
   "outputs": [],
   "source": [
    "nz = [p for p in quantiles_nb if p is not None]\n",
    "res = {}\n",
    "for p in nz:\n",
    "    res.update(p)\n",
    "nbhd_quantiles = pd.Series(res, name='quantile')\n",
    "nbhd_quantiles\n",
    "lcc_nodes = nbhd_quantiles.index.values\n",
    "sets_nb = predict(preds.loc[lcc_nodes].values, nbhd_quantiles.values[:, None])\n",
    "sets_nb = pd.Series(sets_nb, index=lcc_nodes, name='set')"
   ],
   "metadata": {
    "collapsed": false
   }
  },
  {
   "cell_type": "code",
   "execution_count": 73,
   "outputs": [
    {
     "data": {
      "text/plain": "4955"
     },
     "execution_count": 73,
     "metadata": {},
     "output_type": "execute_result"
    }
   ],
   "source": [
    "len(lcc_nodes)"
   ],
   "metadata": {
    "collapsed": false
   }
  },
  {
   "cell_type": "code",
   "execution_count": 74,
   "outputs": [],
   "source": [
    "n_trials = 100\n",
    "n_calib = 1000"
   ],
   "metadata": {
    "collapsed": false
   }
  },
  {
   "cell_type": "code",
   "execution_count": 75,
   "outputs": [
    {
     "data": {
      "text/plain": "  0%|          | 0/100 [00:00<?, ?it/s]",
      "application/vnd.jupyter.widget-view+json": {
       "version_major": 2,
       "version_minor": 0,
       "model_id": "343bc994601b4068be14599bfa12cc55"
      }
     },
     "metadata": {},
     "output_type": "display_data"
    }
   ],
   "source": [
    "nb_stats = []\n",
    "full_stats = []\n",
    "# with mp.Pool(12) as p:\n",
    "for k in tqdm(range(n_trials)):\n",
    "    ## Sample the prediction nodes.\n",
    "    pred_nodes = np.random.choice(lcc_nodes, size=n_calib, replace=False)\n",
    "    # Neighbourhood calibration is pre-computed, so just get prediction sets for them.\n",
    "    nb_stats.append(evaluate_predictions(sets_nb[pred_nodes].values,\n",
    "                                         test_x.loc[pred_nodes].values,\n",
    "                                         np.squeeze(test_y.loc[pred_nodes].values)\n",
    "                                         ))\n",
    "    # Full calibration\n",
    "    quantile = calibrate(preds[~preds.index.isin(pred_nodes)].values,\n",
    "                         np.squeeze(test_y[~test_y.index.isin(pred_nodes)].values), alpha)\n",
    "    sets_full = predict(preds.loc[pred_nodes].values, quantile)\n",
    "    full_stats.append(evaluate_predictions(sets_full,\n",
    "                                           test_x.loc[pred_nodes].values,\n",
    "                                           np.squeeze(test_y.loc[pred_nodes].values)))\n"
   ],
   "metadata": {
    "collapsed": false
   }
  },
  {
   "cell_type": "code",
   "execution_count": 76,
   "outputs": [
    {
     "data": {
      "text/plain": "         coverage    set_size  cc_set_size\ncount  100.000000  100.000000   100.000000\nmean     0.909370    4.096830     4.115421\nstd      0.008166    0.025142     0.025088\nmin      0.889000    4.043000     4.059801\n25%      0.903000    4.080750     4.099421\n50%      0.909500    4.095500     4.117390\n75%      0.915000    4.116250     4.132712\nmax      0.927000    4.177000     4.184466",
      "text/html": "<div>\n<style scoped>\n    .dataframe tbody tr th:only-of-type {\n        vertical-align: middle;\n    }\n\n    .dataframe tbody tr th {\n        vertical-align: top;\n    }\n\n    .dataframe thead th {\n        text-align: right;\n    }\n</style>\n<table border=\"1\" class=\"dataframe\">\n  <thead>\n    <tr style=\"text-align: right;\">\n      <th></th>\n      <th>coverage</th>\n      <th>set_size</th>\n      <th>cc_set_size</th>\n    </tr>\n  </thead>\n  <tbody>\n    <tr>\n      <th>count</th>\n      <td>100.000000</td>\n      <td>100.000000</td>\n      <td>100.000000</td>\n    </tr>\n    <tr>\n      <th>mean</th>\n      <td>0.909370</td>\n      <td>4.096830</td>\n      <td>4.115421</td>\n    </tr>\n    <tr>\n      <th>std</th>\n      <td>0.008166</td>\n      <td>0.025142</td>\n      <td>0.025088</td>\n    </tr>\n    <tr>\n      <th>min</th>\n      <td>0.889000</td>\n      <td>4.043000</td>\n      <td>4.059801</td>\n    </tr>\n    <tr>\n      <th>25%</th>\n      <td>0.903000</td>\n      <td>4.080750</td>\n      <td>4.099421</td>\n    </tr>\n    <tr>\n      <th>50%</th>\n      <td>0.909500</td>\n      <td>4.095500</td>\n      <td>4.117390</td>\n    </tr>\n    <tr>\n      <th>75%</th>\n      <td>0.915000</td>\n      <td>4.116250</td>\n      <td>4.132712</td>\n    </tr>\n    <tr>\n      <th>max</th>\n      <td>0.927000</td>\n      <td>4.177000</td>\n      <td>4.184466</td>\n    </tr>\n  </tbody>\n</table>\n</div>"
     },
     "execution_count": 76,
     "metadata": {},
     "output_type": "execute_result"
    },
    {
     "data": {
      "text/plain": "<Figure size 432x288 with 1 Axes>",
      "image/png": "[encoded data removed]"
     },
     "metadata": {
      "needs_background": "light"
     },
     "output_type": "display_data"
    }
   ],
   "source": [
    "nb_df = pd.DataFrame(nb_stats, columns=['coverage', 'set_size', 'cc_set_size'])\n",
    "nb_df['coverage'].plot(kind='hist', bins=30)\n",
    "nb_df.describe()"
   ],
   "metadata": {
    "collapsed": false
   }
  },
  {
   "cell_type": "code",
   "execution_count": 77,
   "outputs": [
    {
     "data": {
      "text/plain": "         coverage    set_size  cc_set_size\ncount  100.000000  100.000000   100.000000\nmean     0.909960    4.245220     4.251968\nstd      0.008289    0.023533     0.022678\nmin      0.883000    4.187000     4.198901\n25%      0.904000    4.230000     4.234703\n50%      0.910000    4.243500     4.251507\n75%      0.915000    4.262250     4.268315\nmax      0.935000    4.311000     4.311563",
      "text/html": "<div>\n<style scoped>\n    .dataframe tbody tr th:only-of-type {\n        vertical-align: middle;\n    }\n\n    .dataframe tbody tr th {\n        vertical-align: top;\n    }\n\n    .dataframe thead th {\n        text-align: right;\n    }\n</style>\n<table border=\"1\" class=\"dataframe\">\n  <thead>\n    <tr style=\"text-align: right;\">\n      <th></th>\n      <th>coverage</th>\n      <th>set_size</th>\n      <th>cc_set_size</th>\n    </tr>\n  </thead>\n  <tbody>\n    <tr>\n      <th>count</th>\n      <td>100.000000</td>\n      <td>100.000000</td>\n      <td>100.000000</td>\n    </tr>\n    <tr>\n      <th>mean</th>\n      <td>0.909960</td>\n      <td>4.245220</td>\n      <td>4.251968</td>\n    </tr>\n    <tr>\n      <th>std</th>\n      <td>0.008289</td>\n      <td>0.023533</td>\n      <td>0.022678</td>\n    </tr>\n    <tr>\n      <th>min</th>\n      <td>0.883000</td>\n      <td>4.187000</td>\n      <td>4.198901</td>\n    </tr>\n    <tr>\n      <th>25%</th>\n      <td>0.904000</td>\n      <td>4.230000</td>\n      <td>4.234703</td>\n    </tr>\n    <tr>\n      <th>50%</th>\n      <td>0.910000</td>\n      <td>4.243500</td>\n      <td>4.251507</td>\n    </tr>\n    <tr>\n      <th>75%</th>\n      <td>0.915000</td>\n      <td>4.262250</td>\n      <td>4.268315</td>\n    </tr>\n    <tr>\n      <th>max</th>\n      <td>0.935000</td>\n      <td>4.311000</td>\n      <td>4.311563</td>\n    </tr>\n  </tbody>\n</table>\n</div>"
     },
     "execution_count": 77,
     "metadata": {},
     "output_type": "execute_result"
    },
    {
     "data": {
      "text/plain": "<Figure size 432x288 with 1 Axes>",
      "image/png": "[encoded data removed]"
     },
     "metadata": {
      "needs_background": "light"
     },
     "output_type": "display_data"
    }
   ],
   "source": [
    "full_df = pd.DataFrame(full_stats, columns=['coverage', 'set_size', 'cc_set_size'])\n",
    "full_df['coverage'].plot(kind='hist', bins=30)\n",
    "full_df.describe()"
   ],
   "metadata": {
    "collapsed": false
   }
  },
  {
   "cell_type": "code",
   "execution_count": 77,
   "outputs": [],
   "source": [],
   "metadata": {
    "collapsed": false
   }
  }
 ],
 "metadata": {
  "kernelspec": {
   "display_name": "Python 3",
   "language": "python",
   "name": "python3"
  },
  "language_info": {
   "codemirror_mode": {
    "name": "ipython",
    "version": 2
   },
   "file_extension": ".py",
   "mimetype": "text/x-python",
   "name": "python",
   "nbconvert_exporter": "python",
   "pygments_lexer": "ipython2",
   "version": "2.7.6"
  }
 },
 "nbformat": 4,
 "nbformat_minor": 0
}
