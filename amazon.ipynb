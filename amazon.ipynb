{
 "cells": [
  {
   "cell_type": "code",
   "execution_count": 15,
   "metadata": {
    "collapsed": true
   },
   "outputs": [
    {
     "name": "stdout",
     "output_type": "stream",
     "text": [
      "The autoreload extension is already loaded. To reload it, use:\n",
      "  %reload_ext autoreload\n"
     ]
    }
   ],
   "source": [
    "from torch_geometric.datasets import Amazon\n",
    "from torch_geometric.transforms import NormalizeFeatures, RandomNodeSplit\n",
    "from torch_geometric.utils.convert import to_networkx\n",
    "from torch_geometric.utils import homophily\n",
    "import networkx as nx\n",
    "from tqdm.notebook import tqdm\n",
    "from utils import *\n",
    "import pandas as pd\n",
    "import multiprocessing as mp\n",
    "from tqdm.contrib.concurrent import process_map\n",
    "from functools import partial\n",
    "import pickle as pkl\n",
    "import os\n",
    "\n",
    "%load_ext autoreload\n",
    "%autoreload 2\n"
   ]
  },
  {
   "cell_type": "code",
   "execution_count": 16,
   "outputs": [
    {
     "data": {
      "text/plain": "Data(x=[12000, 767], edge_index=[2, 375216], y=[12000], train_mask=[12000], val_mask=[12000], test_mask=[12000])"
     },
     "execution_count": 16,
     "metadata": {},
     "output_type": "execute_result"
    }
   ],
   "source": [
    "dataset = Amazon('data/', 'Computers', pre_transform=RandomNodeSplit(split='train_rest', num_val=1000, num_test=10000))\n",
    "data = dataset[0]\n",
    "test_subgraph = data.subgraph(data.test_mask)\n",
    "test_subgraph"
   ],
   "metadata": {
    "collapsed": false
   }
  },
  {
   "cell_type": "code",
   "execution_count": 17,
   "outputs": [
    {
     "data": {
      "text/plain": "tensor(752)"
     },
     "execution_count": 17,
     "metadata": {},
     "output_type": "execute_result"
    }
   ],
   "source": [
    "data.train_mask.sum()"
   ],
   "metadata": {
    "collapsed": false
   }
  },
  {
   "cell_type": "code",
   "execution_count": 18,
   "outputs": [
    {
     "data": {
      "text/plain": "0.7853084206581116"
     },
     "execution_count": 18,
     "metadata": {},
     "output_type": "execute_result"
    }
   ],
   "source": [
    "homophily(data.edge_index, data.y, method='node')"
   ],
   "metadata": {
    "collapsed": false
   }
  },
  {
   "cell_type": "code",
   "execution_count": 19,
   "outputs": [],
   "source": [
    "G = to_networkx(test_subgraph).to_undirected()"
   ],
   "metadata": {
    "collapsed": false
   }
  },
  {
   "cell_type": "code",
   "execution_count": 20,
   "outputs": [
    {
     "data": {
      "text/plain": "<networkx.classes.graph.Graph at 0x7f9fcc1c1f40>"
     },
     "execution_count": 20,
     "metadata": {},
     "output_type": "execute_result"
    }
   ],
   "source": [
    "G"
   ],
   "metadata": {
    "collapsed": false
   }
  },
  {
   "cell_type": "code",
   "execution_count": 21,
   "outputs": [],
   "source": [
    "def get_nbhd_weights(G, node, k, geom=True):\n",
    "    # Get dict containing nodes -> shortest path to node (i.e. depth).\n",
    "    node_depth_map = pd.Series(nx.single_source_shortest_path_length(G, node, cutoff=k), name='distance')\n",
    "    node_depth_map.index.name = 'node_id'\n",
    "    node_depth_map = node_depth_map.drop(node) # Remove the node itself from list.\n",
    "    node_depth_map = node_depth_map.reset_index()\n",
    "\n",
    "    if geom:\n",
    "        node_depth_map['weight'] = (0.5)**(node_depth_map['distance'] - 1)  # Weight =\n",
    "    else:\n",
    "        node_depth_map['weight'] = 1\n",
    "    return node_depth_map"
   ],
   "metadata": {
    "collapsed": false
   }
  },
  {
   "cell_type": "code",
   "execution_count": 22,
   "outputs": [
    {
     "name": "stdout",
     "output_type": "stream",
     "text": [
      "12000\n",
      "12000\n",
      "12000\n"
     ]
    }
   ],
   "source": [
    "exp_path = 'experiments/01-11-2022_19-13-44_Computers' #- SAGE MEAN WORKING\n",
    "# exp_path = 'experiments/01-11-2022_19-19-38_Computers' ## 0.765 accuracy\n",
    "# exp_path = 'experiments/01-11-2022_19-51-57_Computers_SHADOW'  # 0.816 accuracy\n",
    "preds_path = os.path.join(exp_path, 'preds.pkl')\n",
    "with open(preds_path, 'rb') as f:\n",
    "    preds = pkl.load(f)\n",
    "# preds = preds[lcc_nodes]\n",
    "# test_x = test_subgraph.x[lcc_nodes].numpy()\n",
    "# test_y = test_subgraph.y[lcc_nodes].numpy()\n",
    "preds = pd.DataFrame(preds)\n",
    "test_x = pd.DataFrame(data.x[data.test_mask].numpy())\n",
    "test_y = pd.DataFrame(data.y[data.test_mask].numpy())\n",
    "\n",
    "print(len(preds))\n",
    "print(len(test_x))\n",
    "print(len(test_y))"
   ],
   "metadata": {
    "collapsed": false
   }
  },
  {
   "cell_type": "code",
   "execution_count": 23,
   "outputs": [
    {
     "data": {
      "text/plain": "0.20821679166666668"
     },
     "execution_count": 23,
     "metadata": {},
     "output_type": "execute_result"
    }
   ],
   "source": [
    "probs = test_y.value_counts() / len(test_y)\n",
    "probs.name = 'Proportion'\n",
    "probs.index.name = 'Class'\n",
    "probs\n",
    "sum(probs**2)"
   ],
   "metadata": {
    "collapsed": false
   }
  },
  {
   "cell_type": "code",
   "execution_count": 114,
   "outputs": [
    {
     "data": {
      "text/plain": "              0         1         2         3         4         5         6  \\\n0      0.001019  0.012192  0.000242  0.001248  0.981258  0.001018  0.000460   \n1      0.000152  0.000945  0.000019  0.001719  0.994370  0.000599  0.000108   \n2      0.002745  0.170167  0.000867  0.007826  0.079542  0.006717  0.051183   \n3      0.001630  0.042534  0.000193  0.001450  0.006835  0.000807  0.173975   \n4      0.006758  0.340329  0.004453  0.012377  0.357808  0.008083  0.029956   \n...         ...       ...       ...       ...       ...       ...       ...   \n11995  0.019219  0.006341  0.787021  0.001750  0.003921  0.002764  0.001703   \n11996  0.000001  0.994706  0.000097  0.000013  0.000352  0.000004  0.000192   \n11997  0.000127  0.008200  0.000011  0.000312  0.001061  0.000095  0.105142   \n11998  0.000767  0.012805  0.000124  0.000883  0.979565  0.000127  0.000166   \n11999  0.143451  0.020856  0.138445  0.067441  0.563845  0.027095  0.006090   \n\n              7         8         9  \n0      0.000040  0.002378  0.000144  \n1      0.000005  0.002061  0.000022  \n2      0.000726  0.667538  0.012690  \n3      0.001544  0.755072  0.015959  \n4      0.003525  0.227383  0.009327  \n...         ...       ...       ...  \n11995  0.175277  0.000492  0.001510  \n11996  0.000077  0.004519  0.000038  \n11997  0.000144  0.880699  0.004209  \n11998  0.000008  0.005523  0.000033  \n11999  0.014484  0.013298  0.004995  \n\n[12000 rows x 10 columns]",
      "text/html": "<div>\n<style scoped>\n    .dataframe tbody tr th:only-of-type {\n        vertical-align: middle;\n    }\n\n    .dataframe tbody tr th {\n        vertical-align: top;\n    }\n\n    .dataframe thead th {\n        text-align: right;\n    }\n</style>\n<table border=\"1\" class=\"dataframe\">\n  <thead>\n    <tr style=\"text-align: right;\">\n      <th></th>\n      <th>0</th>\n      <th>1</th>\n      <th>2</th>\n      <th>3</th>\n      <th>4</th>\n      <th>5</th>\n      <th>6</th>\n      <th>7</th>\n      <th>8</th>\n      <th>9</th>\n    </tr>\n  </thead>\n  <tbody>\n    <tr>\n      <th>0</th>\n      <td>0.001019</td>\n      <td>0.012192</td>\n      <td>0.000242</td>\n      <td>0.001248</td>\n      <td>0.981258</td>\n      <td>0.001018</td>\n      <td>0.000460</td>\n      <td>0.000040</td>\n      <td>0.002378</td>\n      <td>0.000144</td>\n    </tr>\n    <tr>\n      <th>1</th>\n      <td>0.000152</td>\n      <td>0.000945</td>\n      <td>0.000019</td>\n      <td>0.001719</td>\n      <td>0.994370</td>\n      <td>0.000599</td>\n      <td>0.000108</td>\n      <td>0.000005</td>\n      <td>0.002061</td>\n      <td>0.000022</td>\n    </tr>\n    <tr>\n      <th>2</th>\n      <td>0.002745</td>\n      <td>0.170167</td>\n      <td>0.000867</td>\n      <td>0.007826</td>\n      <td>0.079542</td>\n      <td>0.006717</td>\n      <td>0.051183</td>\n      <td>0.000726</td>\n      <td>0.667538</td>\n      <td>0.012690</td>\n    </tr>\n    <tr>\n      <th>3</th>\n      <td>0.001630</td>\n      <td>0.042534</td>\n      <td>0.000193</td>\n      <td>0.001450</td>\n      <td>0.006835</td>\n      <td>0.000807</td>\n      <td>0.173975</td>\n      <td>0.001544</td>\n      <td>0.755072</td>\n      <td>0.015959</td>\n    </tr>\n    <tr>\n      <th>4</th>\n      <td>0.006758</td>\n      <td>0.340329</td>\n      <td>0.004453</td>\n      <td>0.012377</td>\n      <td>0.357808</td>\n      <td>0.008083</td>\n      <td>0.029956</td>\n      <td>0.003525</td>\n      <td>0.227383</td>\n      <td>0.009327</td>\n    </tr>\n    <tr>\n      <th>...</th>\n      <td>...</td>\n      <td>...</td>\n      <td>...</td>\n      <td>...</td>\n      <td>...</td>\n      <td>...</td>\n      <td>...</td>\n      <td>...</td>\n      <td>...</td>\n      <td>...</td>\n    </tr>\n    <tr>\n      <th>11995</th>\n      <td>0.019219</td>\n      <td>0.006341</td>\n      <td>0.787021</td>\n      <td>0.001750</td>\n      <td>0.003921</td>\n      <td>0.002764</td>\n      <td>0.001703</td>\n      <td>0.175277</td>\n      <td>0.000492</td>\n      <td>0.001510</td>\n    </tr>\n    <tr>\n      <th>11996</th>\n      <td>0.000001</td>\n      <td>0.994706</td>\n      <td>0.000097</td>\n      <td>0.000013</td>\n      <td>0.000352</td>\n      <td>0.000004</td>\n      <td>0.000192</td>\n      <td>0.000077</td>\n      <td>0.004519</td>\n      <td>0.000038</td>\n    </tr>\n    <tr>\n      <th>11997</th>\n      <td>0.000127</td>\n      <td>0.008200</td>\n      <td>0.000011</td>\n      <td>0.000312</td>\n      <td>0.001061</td>\n      <td>0.000095</td>\n      <td>0.105142</td>\n      <td>0.000144</td>\n      <td>0.880699</td>\n      <td>0.004209</td>\n    </tr>\n    <tr>\n      <th>11998</th>\n      <td>0.000767</td>\n      <td>0.012805</td>\n      <td>0.000124</td>\n      <td>0.000883</td>\n      <td>0.979565</td>\n      <td>0.000127</td>\n      <td>0.000166</td>\n      <td>0.000008</td>\n      <td>0.005523</td>\n      <td>0.000033</td>\n    </tr>\n    <tr>\n      <th>11999</th>\n      <td>0.143451</td>\n      <td>0.020856</td>\n      <td>0.138445</td>\n      <td>0.067441</td>\n      <td>0.563845</td>\n      <td>0.027095</td>\n      <td>0.006090</td>\n      <td>0.014484</td>\n      <td>0.013298</td>\n      <td>0.004995</td>\n    </tr>\n  </tbody>\n</table>\n<p>12000 rows × 10 columns</p>\n</div>"
     },
     "execution_count": 114,
     "metadata": {},
     "output_type": "execute_result"
    }
   ],
   "source": [
    "preds"
   ],
   "metadata": {
    "collapsed": false
   }
  },
  {
   "cell_type": "code",
   "execution_count": 115,
   "outputs": [
    {
     "data": {
      "text/plain": "12000"
     },
     "execution_count": 115,
     "metadata": {},
     "output_type": "execute_result"
    }
   ],
   "source": [
    "G.number_of_nodes()"
   ],
   "metadata": {
    "collapsed": false
   }
  },
  {
   "cell_type": "code",
   "execution_count": 116,
   "outputs": [
    {
     "name": "stderr",
     "output_type": "stream",
     "text": [
      "/tmp/ipykernel_283066/2080877440.py:12: TqdmWarning: Iterable length 12000 > 1000 but `chunksize` is not set. This may seriously degrade multiprocess performance. Set `chunksize=1` or more.\n",
      "  quantiles_nb = process_map(calibrate_nbhd, list(G.nodes), max_workers=12)\n"
     ]
    },
    {
     "data": {
      "text/plain": "  0%|          | 0/12000 [00:00<?, ?it/s]",
      "application/vnd.jupyter.widget-view+json": {
       "version_major": 2,
       "version_minor": 0,
       "model_id": "ab853b23f2654cf8916ac856a9fb3a6e"
      }
     },
     "metadata": {},
     "output_type": "display_data"
    }
   ],
   "source": [
    "## Compute the NAPS prediction set for each node in advance.\n",
    "alpha = 0.1\n",
    "cutoff = 50\n",
    "quantiles_nb = []\n",
    "def calibrate_nbhd(node):\n",
    "    nbs = get_nbhd_weights(G, node, k=2, geom=False)\n",
    "    nb_ids = nbs['node_id'].values\n",
    "    if cutoff <= len(nb_ids):\n",
    "        quantile = calibrate(preds.loc[nb_ids].values,\n",
    "                             np.squeeze(test_y.loc[nb_ids].values), alpha)\n",
    "        return {node: quantile[0]}\n",
    "quantiles_nb = process_map(calibrate_nbhd, list(G.nodes), max_workers=12)"
   ],
   "metadata": {
    "collapsed": false
   }
  },
  {
   "cell_type": "code",
   "execution_count": 117,
   "outputs": [],
   "source": [
    "nz = [p for p in quantiles_nb if p is not None]\n",
    "res = {}\n",
    "for p in nz:\n",
    "    res.update(p)\n",
    "nbhd_quantiles = pd.Series(res, name='quantile')\n",
    "nbhd_quantiles\n",
    "lcc_nodes = nbhd_quantiles.index.values\n",
    "sets_nb = predict(preds.loc[lcc_nodes].values, nbhd_quantiles.values[:, None])\n",
    "sets_nb = pd.Series(sets_nb, index=lcc_nodes, name='set')"
   ],
   "metadata": {
    "collapsed": false
   }
  },
  {
   "cell_type": "code",
   "execution_count": 118,
   "outputs": [
    {
     "data": {
      "text/plain": "11033"
     },
     "execution_count": 118,
     "metadata": {},
     "output_type": "execute_result"
    }
   ],
   "source": [
    "len(lcc_nodes)"
   ],
   "metadata": {
    "collapsed": false
   }
  },
  {
   "cell_type": "code",
   "execution_count": 119,
   "outputs": [],
   "source": [
    "n_trials = 100\n",
    "n_eval = 1000"
   ],
   "metadata": {
    "collapsed": false
   }
  },
  {
   "cell_type": "code",
   "execution_count": 120,
   "outputs": [
    {
     "data": {
      "text/plain": "  0%|          | 0/100 [00:00<?, ?it/s]",
      "application/vnd.jupyter.widget-view+json": {
       "version_major": 2,
       "version_minor": 0,
       "model_id": "4a9847de4c1b4a1bb7e21f6a2a47c6b8"
      }
     },
     "metadata": {},
     "output_type": "display_data"
    }
   ],
   "source": [
    "nb_stats = []\n",
    "full_stats = []\n",
    "# with mp.Pool(12) as p:\n",
    "for k in tqdm(range(n_trials)):\n",
    "    ## Sample the prediction nodes.\n",
    "    pred_nodes = np.random.choice(lcc_nodes, size=n_eval, replace=False)\n",
    "    # Neighbourhood calibration is pre-computed, so just get prediction sets for them.\n",
    "    nb_stats.append(evaluate_predictions(sets_nb[pred_nodes].values,\n",
    "                                         test_x.loc[pred_nodes].values,\n",
    "                                         np.squeeze(test_y.loc[pred_nodes].values)\n",
    "                                         ))\n",
    "    # Full calibration\n",
    "    quantile = calibrate(preds[~preds.index.isin(pred_nodes)].values,\n",
    "                         np.squeeze(test_y[~test_y.index.isin(pred_nodes)].values), alpha)\n",
    "    sets_full = predict(preds.loc[pred_nodes].values, quantile)\n",
    "    full_stats.append(evaluate_predictions(sets_full,\n",
    "                                           test_x.loc[pred_nodes].values,\n",
    "                                           np.squeeze(test_y.loc[pred_nodes].values)))\n"
   ],
   "metadata": {
    "collapsed": false
   }
  },
  {
   "cell_type": "code",
   "execution_count": 121,
   "outputs": [
    {
     "data": {
      "text/plain": "         coverage    set_size  cc_set_size\ncount  100.000000  100.000000   100.000000\nmean     0.901270    1.464920     1.547736\nstd      0.009427    0.029331     0.027972\nmin      0.879000    1.376000     1.461017\n25%      0.896000    1.448000     1.533443\n50%      0.901000    1.464500     1.549281\n75%      0.907250    1.479250     1.562881\nmax      0.929000    1.562000     1.624722",
      "text/html": "<div>\n<style scoped>\n    .dataframe tbody tr th:only-of-type {\n        vertical-align: middle;\n    }\n\n    .dataframe tbody tr th {\n        vertical-align: top;\n    }\n\n    .dataframe thead th {\n        text-align: right;\n    }\n</style>\n<table border=\"1\" class=\"dataframe\">\n  <thead>\n    <tr style=\"text-align: right;\">\n      <th></th>\n      <th>coverage</th>\n      <th>set_size</th>\n      <th>cc_set_size</th>\n    </tr>\n  </thead>\n  <tbody>\n    <tr>\n      <th>count</th>\n      <td>100.000000</td>\n      <td>100.000000</td>\n      <td>100.000000</td>\n    </tr>\n    <tr>\n      <th>mean</th>\n      <td>0.901270</td>\n      <td>1.464920</td>\n      <td>1.547736</td>\n    </tr>\n    <tr>\n      <th>std</th>\n      <td>0.009427</td>\n      <td>0.029331</td>\n      <td>0.027972</td>\n    </tr>\n    <tr>\n      <th>min</th>\n      <td>0.879000</td>\n      <td>1.376000</td>\n      <td>1.461017</td>\n    </tr>\n    <tr>\n      <th>25%</th>\n      <td>0.896000</td>\n      <td>1.448000</td>\n      <td>1.533443</td>\n    </tr>\n    <tr>\n      <th>50%</th>\n      <td>0.901000</td>\n      <td>1.464500</td>\n      <td>1.549281</td>\n    </tr>\n    <tr>\n      <th>75%</th>\n      <td>0.907250</td>\n      <td>1.479250</td>\n      <td>1.562881</td>\n    </tr>\n    <tr>\n      <th>max</th>\n      <td>0.929000</td>\n      <td>1.562000</td>\n      <td>1.624722</td>\n    </tr>\n  </tbody>\n</table>\n</div>"
     },
     "execution_count": 121,
     "metadata": {},
     "output_type": "execute_result"
    },
    {
     "data": {
      "text/plain": "<Figure size 432x288 with 1 Axes>",
      "image/png": "[encoded data removed]"
     },
     "metadata": {
      "needs_background": "light"
     },
     "output_type": "display_data"
    }
   ],
   "source": [
    "nb_df = pd.DataFrame(nb_stats, columns=['coverage', 'set_size', 'cc_set_size'])\n",
    "nb_df['coverage'].plot(kind='hist', bins=30)\n",
    "nb_df.describe()"
   ],
   "metadata": {
    "collapsed": false
   }
  },
  {
   "cell_type": "code",
   "execution_count": 122,
   "outputs": [
    {
     "data": {
      "text/plain": "         coverage    set_size  cc_set_size\ncount  100.000000  100.000000   100.000000\nmean     0.902210    1.498850     1.576302\nstd      0.010943    0.032529     0.031523\nmin      0.873000    1.431000     1.500552\n25%      0.895000    1.473000     1.555832\n50%      0.903000    1.498000     1.574893\n75%      0.909000    1.522250     1.600833\nmax      0.926000    1.601000     1.672887",
      "text/html": "<div>\n<style scoped>\n    .dataframe tbody tr th:only-of-type {\n        vertical-align: middle;\n    }\n\n    .dataframe tbody tr th {\n        vertical-align: top;\n    }\n\n    .dataframe thead th {\n        text-align: right;\n    }\n</style>\n<table border=\"1\" class=\"dataframe\">\n  <thead>\n    <tr style=\"text-align: right;\">\n      <th></th>\n      <th>coverage</th>\n      <th>set_size</th>\n      <th>cc_set_size</th>\n    </tr>\n  </thead>\n  <tbody>\n    <tr>\n      <th>count</th>\n      <td>100.000000</td>\n      <td>100.000000</td>\n      <td>100.000000</td>\n    </tr>\n    <tr>\n      <th>mean</th>\n      <td>0.902210</td>\n      <td>1.498850</td>\n      <td>1.576302</td>\n    </tr>\n    <tr>\n      <th>std</th>\n      <td>0.010943</td>\n      <td>0.032529</td>\n      <td>0.031523</td>\n    </tr>\n    <tr>\n      <th>min</th>\n      <td>0.873000</td>\n      <td>1.431000</td>\n      <td>1.500552</td>\n    </tr>\n    <tr>\n      <th>25%</th>\n      <td>0.895000</td>\n      <td>1.473000</td>\n      <td>1.555832</td>\n    </tr>\n    <tr>\n      <th>50%</th>\n      <td>0.903000</td>\n      <td>1.498000</td>\n      <td>1.574893</td>\n    </tr>\n    <tr>\n      <th>75%</th>\n      <td>0.909000</td>\n      <td>1.522250</td>\n      <td>1.600833</td>\n    </tr>\n    <tr>\n      <th>max</th>\n      <td>0.926000</td>\n      <td>1.601000</td>\n      <td>1.672887</td>\n    </tr>\n  </tbody>\n</table>\n</div>"
     },
     "execution_count": 122,
     "metadata": {},
     "output_type": "execute_result"
    },
    {
     "data": {
      "text/plain": "<Figure size 432x288 with 1 Axes>",
      "image/png": "[encoded data removed]"
     },
     "metadata": {
      "needs_background": "light"
     },
     "output_type": "display_data"
    }
   ],
   "source": [
    "full_df = pd.DataFrame(full_stats, columns=['coverage', 'set_size', 'cc_set_size'])\n",
    "full_df['coverage'].plot(kind='hist', bins=30)\n",
    "full_df.describe()"
   ],
   "metadata": {
    "collapsed": false
   }
  },
  {
   "cell_type": "code",
   "execution_count": 122,
   "outputs": [],
   "source": [],
   "metadata": {
    "collapsed": false
   }
  }
 ],
 "metadata": {
  "kernelspec": {
   "display_name": "Python 3",
   "language": "python",
   "name": "python3"
  },
  "language_info": {
   "codemirror_mode": {
    "name": "ipython",
    "version": 2
   },
   "file_extension": ".py",
   "mimetype": "text/x-python",
   "name": "python",
   "nbconvert_exporter": "python",
   "pygments_lexer": "ipython2",
   "version": "2.7.6"
  }
 },
 "nbformat": 4,
 "nbformat_minor": 0
}
